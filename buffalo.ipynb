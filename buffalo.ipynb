{
 "cells": [
  {
   "cell_type": "markdown",
   "metadata": {},
   "source": [
    "# The Buffalo theorem\n",
    "\n",
    "In this notebook, we will discuss and prove the following theorem:\n",
    "\n",
    "*Buffalo theorem.* For any positive integer $n$, there is a grammatically and semantically correct \n",
    "English sentence, terminating in a full stop (`'.'`), consisting only of some appropriately capitalized\n",
    "instance of the string `'buffalo'` repeated $n$ times (with each occurrence of the string separated by a space \n",
    "-- `' '`).\n",
    "\n",
    "## Origins\n",
    "\n",
    "The earliest known appearance of a sentence containing multiple instances of (ignoring capitalization) the\n",
    "string `'buffalo'` is in a book by [Dmitri Borgmann](https://en.wikipedia.org/wiki/Dmitri_Borgmann) called\n",
    "[*Beyond Language: Adventures in Word and Thought*](https://en.wikipedia.org/wiki/Beyond_Language).\n",
    "Borgmann, in that book, used the sentence \"Buffalo buffalo Buffalo buffalo buffalo buffalo Buffalo buffalo.\"\n",
    "This is an instance of the case in the theorem with $n = 8$.\n",
    "\n",
    "Sentences of this sort have also been recorded by [William Rapaport](https://en.wikipedia.org/wiki/William_J._Rapaport) ($n = 5, 10$)\n",
    "and [Steven Pinker](https://en.wikipedia.org/wiki/Steven_Pinker) ($n = 8$, in his book [*The Language Instinct*](https://en.wikipedia.org/wiki/The_Language_Instinct), attributed to his student, Annie Senghas).\n",
    "The [wikipedia page on Buffalo theorems](https://en.wikipedia.org/wiki/Buffalo_buffalo_Buffalo_buffalo_buffalo_buffalo_Buffalo_buffalo) gives more\n",
    "insight on the origins of the theorem (and will be kept up-to-date more effectively than this notebook).\n",
    "\n",
    "Rapaport maintains a [web page which details his investigation of the theorem](https://cse.buffalo.edu/~rapaport/buffalobuffalo.html).\n",
    "Based on the information there, the first person to have addressed the theorem in the full generality of\n",
    "a theorem was [Carl de Marcken](http://www.demarcken.org/carl/). He, in fact, provided a function to\n",
    "calculate the number of valid interpretations of a sentence with $n$ occurrences of the string `'buffalo'`\n",
    "as specified in the theorem (the function is a proof of a different theorem)."
   ]
  },
  {
   "cell_type": "markdown",
   "metadata": {},
   "source": [
    "## Setup\n",
    "\n",
    "This notebook will freely mix code into its discussion of the Buffalo theorem. The code is all\n",
    "written in Python 3. It will make use of the following dependencies:"
   ]
  },
  {
   "cell_type": "code",
   "execution_count": 1,
   "metadata": {},
   "outputs": [],
   "source": [
    "from PyDictionary import PyDictionary\n",
    "dictionary = PyDictionary()"
   ]
  },
  {
   "cell_type": "markdown",
   "metadata": {},
   "source": [
    "## Strings and words\n",
    "\n",
    "The statement of the above theorem may feel a bit strange in that it refers to the string `'buffalo'` when any\n",
    "reasonably bovine-educated human being knows that \"buffalo\" is a word.\n",
    "\n",
    "Consider the following string:"
   ]
  },
  {
   "cell_type": "code",
   "execution_count": 2,
   "metadata": {},
   "outputs": [],
   "source": [
    "semantically_meaningless_string = 'klajsdklfjaklsdjfas'"
   ]
  },
  {
   "cell_type": "markdown",
   "metadata": {},
   "source": [
    "The string `'buffalo'`, unlike the `semantically_meaningless_string` defined above, has conventionally accepted semantic meaning. Actually, it has several:"
   ]
  },
  {
   "cell_type": "code",
   "execution_count": 3,
   "metadata": {},
   "outputs": [
    {
     "name": "stderr",
     "output_type": "stream",
     "text": []
    },
    {
     "data": {
      "text/plain": [
       "{'Noun': ['large shaggy-haired brown bison of North American plains',\n",
       "  'a city on Lake Erie in western New York (near Niagara Falls',\n",
       "  'meat from an American bison',\n",
       "  'any of several Old World animals resembling oxen including, e.g., water buffalo; Cape buffalo'],\n",
       " 'Verb': ['intimidate or overawe']}"
      ]
     },
     "execution_count": 3,
     "metadata": {},
     "output_type": "execute_result"
    }
   ],
   "source": [
    "dictionary.meaning('buffalo')"
   ]
  },
  {
   "cell_type": "markdown",
   "metadata": {},
   "source": [
    "This is not to say that the `semantically_meaningless_string` is universally semantically meaningless. After all, it has taken on a semantic meaning in the context of this notebook. The key is that the string\n",
    "`'buffalo'` has *conventional* meanings that can be found in a dictionary. The string is common to each of\n",
    "these possible meanings and does not distinguish between any of them.\n",
    "\n",
    "The *string* `'buffalo'` corresponds to multiple *words* \"buffalo\"/\"Buffalo\"."
   ]
  },
  {
   "cell_type": "markdown",
   "metadata": {},
   "source": [
    "## Examples\n",
    "\n",
    "Let us consider some example sentences of the type asserted by the Buffalo theorem, and see how to interpret\n",
    "them against the semantic meanings of the string `'buffalo'`.\n",
    "\n",
    "### $n = 5$\n",
    "\n",
    "Let us consider all possible intepretations of all valid capitalizations grouped by capitalization:\n",
    "\n",
    "#### Buffalo buffalo buffalo Buffalo buffalo.\n",
    "\n",
    "1. Buffalo (mammals) from Buffalo (the city) buffalo (intimidate or overawe) buffalo (mammals) from Buffalo (the city).\n",
    "\n",
    "1. Buffalo (mammals) buffalo (intimidate or overawe) buffalo (mammals) which are buffaloed (intimidated or overawed) by Buffalo buffalo.\n",
    "\n",
    "#### Buffalo Buffalo buffalo buffalo buffalo.\n",
    "\n",
    "1. Buffalo (mammals) which are buffaloed (intimidated or overawed) by buffalo (mammals) from Buffalo (the city) also buffalo (intimidate or overawe).\n",
    "\n",
    "1. Buffalo (intimidate or overawe, used as an imperative) buffalo (mammals) from Buffalo (the city) who are buffaloed (intimidated or overawed) by buffalo (mammals).\n",
    "\n",
    "#### Buffalo buffalo Buffalo buffalo buffalo.\n",
    "\n",
    "1. Buffalo (intimidate or overawe, used as an imperative) buffalo (mammals) who are buffaloed (intimidated or overawed) by buffalo (mammals) from Buffalo (the city).\n",
    "\n",
    "#### Buffalo buffalo buffalo buffalo buffalo.\n",
    "\n",
    "1. Buffalo (mammals) buffalo (intimidate or overawe) buffalo (mammals) who are buffaloed (intimidated or overawed) by buffalo (mammals).\n",
    "\n",
    "1. Buffalo (mammals) which buffalo (intimidate or overawe) buffalo (mammals), they buffalo (intimidate or overawe) buffalo (mammals).\n",
    "\n",
    "### $n = 6$\n",
    "\n",
    "Let us not enumerate over all possible interpretations. Rather, let us restrict our attention to a couple of\n",
    "cases:\n",
    "\n",
    "#### Buffalo buffalo buffalo buffalo buffalo buffalo.\n",
    "\n",
    "In this capitalization, there is only one (suitable capitalized instance) of the string `'buffalo'` which can\n",
    "be taken to mean the city -- the very first one.\n",
    "\n",
    "Let us reason through whehter the first instance of `'buffalo'` (blind to capitalization) can be interpreted as the verb. To interpret the first word as a verb (which makes the sentence imperative), the remainder of the sentence has to be intepreted as a noun phrase which does not use the string `'buffalo'` in the sense of the city (because of capitalization). This forces the second `'buffalo'` to be interpreted as the collective noun and the final `'buffalo'` to be interpreted as the verb. This, in turn, forces the third, fourth, and fifth `'buffalo'` instances to themselves form a self-contained noun phrase which does not use `'buffalo'` in reference to the city (capitalization again). There is only one such noun phrase (using the same kind of reasoning we used to get to this stage) -- buffalo (mammals) [which] buffalo (mammals) buffalo (intimidate or awe). Therefore, we can interpret this particular capitalization for $n = 6$ as a command to buffalo [second `'buffalo'`] who are intimidated or overawed [sixth `'buffalo'`] by buffalo [third `'buffalo'`] who are themselves intimidated or overawed [fifth `'buffalo'`] by buffalo [fourth `'buffalo'`] to themselves buffalo [first `'buffalo'`] (everything around them, presumably).\n",
    "\n",
    "Let us see whether the second instance of `'buffalo'` in the same sentence can be interpreted as a verb. In order for this to happen, the first instance has to refer to the collective noun, and the third through final instances must form a noun phrase. Moreover, due to the capitalization constraints, this noun phrase must not contain any references to the city of Buffalo. This means that the third instance of `'buffalo'` in the whole sentence must refer to the mammals and the final instance must refer to the verb. This forces the fourth and fifth instances to form their own noun phrase which (again) cannot contain a reference to the city. There is no such noun phrase! Therefore, there is no interpretation of the above sentence in which the second instance of `'buffalo'` can be interpreted as a verb.\n",
    "\n",
    "However, the above argument does allow us to make a minor modification to the sentence and turn the second `'buffalo'` into a verb: **\"Buffalo buffalo buffalo Buffalo buffalo buffalo.\"** This turns the grouping of the fourth and fifth `'buffalo'` instances into the noun phrase meaning buffalo (mammals) from Buffalo (the city). Taken as a whole this new capitalization, the second `'buffalo'` instance is interpreted as a verb, means that Buffalo (mammals) buffalo (intimidate or overawe) buffalo (mammals) who are buffaloed (intimidated or overawed) by buffalo (mammals) from Buffalo (the city)."
   ]
  },
  {
   "cell_type": "markdown",
   "metadata": {},
   "source": [
    "## Proof of the Buffalo theorem\n",
    "\n",
    "### Buffalo noun phrases of arbitrary length\n",
    "\n",
    "The discussion of the examples above gives us enough ammunition with which to prove the Buffalo theorem. The key to our proof (which is simply an existing proof) will be identifying all the different noun phrases that comprise only of instances of the string `'buffalo'` (with suitable capitalization -- note that the statement of the theorem does not depend on the distinction between different capitalizations).\n",
    "\n",
    "*Buffalo noun phrase lemma.* For any positive integer $n$, there exists a suitably capitalized, ` `-separated concatenation of instances of the string `'buffalo'` which forms a valid noun phrase. Moreover, each of these noun phrases refers to a collective.\n",
    "\n",
    "*Proof.* \"buffalo\" and \"Buffalo buffalo\" are valid collective noun phrases for $n = 1$ and $n = 2$. Now we proceed by induction. For a given $n > 2$, a collective noun phrase of length $n$ can be formed as: `NP1 NP2 buffalo`, where `NP1` and `NP2` are noun phrases whose lengths add up to $n-1$, `NP1` is a collective noun phrase, and the final `'buffalo'` instance is interpreted as the verb. Now we can proceed by induction. Assuming that noun phrases exist of length $k$ for every positive integer $k < n$, then we finding `NP1` and `NP2` is a triviality -- we can simply take `NP1` to be the (collective noun) buffalo and we can take `NP2` to be a noun phrase of length $n-2$, the existence of which is guaranteed by the inductive hypothesis. This proves the lemma.\n",
    "\n",
    "### Buffalo-sentences of arbitrary length\n",
    "\n",
    "For a positive integer $n$, let us describe a construction of a buffalo-sentence of length $n$:\n",
    "\n",
    "1. Choose an integer $k$ with $1 \\leq k \\leq n$ and determine that the $k^{th}$ instance of `'buffalo'` in our desired sentence should be interpreted as a verb.\n",
    "\n",
    "1. Choose a collective noun phrase of length $k - 1$ to place before position $k$ and a noun phrase of length $n - k$ to place after position $k$. (Let us extend the Buffalo noun phrase lemma to the case $n = 0$ by agreeing on the convention of the empty noun phrase.)\n",
    "\n",
    "1. Capitalize the first `'buffalo'` instance if required and add a `.` at the end of the construction.\n",
    "\n",
    "Thanks to the Buffalo noun phrase lemma, we know that this yields a syntactically correct (this was the purpose of step 3) sentence with the structure:\n",
    "```\n",
    "[collective noun phrase] [pluralized verb] [collective noun phrase]\n",
    "```\n",
    "and therefore proves the Buffalo theorem."
   ]
  }
 ],
 "metadata": {
  "kernelspec": {
   "display_name": "Python 3",
   "language": "python",
   "name": "python3"
  },
  "language_info": {
   "codemirror_mode": {
    "name": "ipython",
    "version": 3
   },
   "file_extension": ".py",
   "mimetype": "text/x-python",
   "name": "python",
   "nbconvert_exporter": "python",
   "pygments_lexer": "ipython3",
   "version": "3.7.1"
  }
 },
 "nbformat": 4,
 "nbformat_minor": 2
}
